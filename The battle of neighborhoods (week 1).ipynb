{
 "cells": [
  {
   "cell_type": "markdown",
   "metadata": {
    "collapsed": true
   },
   "source": [
    "# The Battle of Neighborhoods - Week 1"
   ]
  },
  {
   "cell_type": "markdown",
   "metadata": {},
   "source": [
    "## Introduction & Business Problem :"
   ]
  },
  {
   "cell_type": "markdown",
   "metadata": {},
   "source": [
    "### Problem Background:"
   ]
  },
  {
   "cell_type": "markdown",
   "metadata": {},
   "source": [
    "The City of New York, is the most populous city in the United States. It is multicultural, diverse and the financial capital of USA. It provides business friendly environment and encourages lot of business oppourtunities. It has attracted many different businesses into the market. It is a global hub of business and commerce. The city is a major center for banking and finance, retailing, world trade, transportation, tourism, real estate, new media, traditional media, advertising, legal services, accountancy, insurance, theater, fashion, and the arts in the United States."
   ]
  },
  {
   "cell_type": "markdown",
   "metadata": {},
   "source": [
    "This also means that the market is highly competitive. As it is highly developed city so cost of doing business is also one of the highest. Thus, any new business venture or expansion needs to be analysed carefully. The insights derived from analysis will give good understanding of the business environment which help in strategically targeting the market. This will help in reduction of risk and the return on Investment will be reasonable."
   ]
  },
  {
   "cell_type": "markdown",
   "metadata": {},
   "source": [
    "### Problem Description:"
   ]
  },
  {
   "cell_type": "markdown",
   "metadata": {},
   "source": [
    "A restaurant is a business which prepares and serves food and drink to customers in return for money, either paid before the meal, after the meal, or with an open account. The city of New York is famous for its excelllent cuisine. It's food culture includes an array of international cuisines influenced by the city's immigrant history."
   ]
  },
  {
   "cell_type": "markdown",
   "metadata": {},
   "source": [
    "1. Eastern & Central European immigrants - Cheesecake, Hot dogs, Bagels, knishes and delicatessens.\n",
    "2. Italian immigrants - Italian cuisine & New York-style pizza. \n",
    "3. Jewish immigrants and Irish immigrants - Pastrami and Corned beef.\n",
    "4. Chinese and other Asian restaurants - Sandwich joints, Trattorias, Diners and Coffeehouses are ubiquitous throughout the city.\n",
    "5. Mobile food vendors - There are many licensed by the city.\n",
    "6. Middle Eastern foods - Falafel and Kebabs \n",
    "7. Michelin starred restaurants - According to Michelin, the city is home to \"nearly one thousand of the finest and most diverse cuisine restaurants in the world\"."
   ]
  },
  {
   "cell_type": "markdown",
   "metadata": {},
   "source": [
    "So it is evident that to survive in such competitive market, it is very important to startegically plan various factors that are needed to be studied inorder to decide on the location such as :"
   ]
  },
  {
   "cell_type": "markdown",
   "metadata": {},
   "source": [
    "1. Population of New York City?\n",
    "2. Demographics of New York City?\n",
    "3. In order to buy fresh grocery having good quality and low cost, we need to find if there are any Farmers/Wholesale markets nearby.\n",
    "4. How is the floating population in that area? This can be judged by exploring nearby area for finding the venues like parks, entertainment zones etc.\n",
    "5. Who are the existing competitors in that location?\n",
    "6. How many Cuisine served / Menu of the competitors?\n",
    "7. How is the Segmentation of the Borough?\n",
    "8. Are there Untapped markets?\n",
    "9. Are there Saturated markets? etc."
   ]
  },
  {
   "cell_type": "markdown",
   "metadata": {},
   "source": [
    "Eventhough well funded DNB Foodies Company Ltd. need to choose the correct location to start it's first venture. If this is successful, they can replicate the same in other locations. First move is very important, therefore choice of location is very important."
   ]
  },
  {
   "cell_type": "markdown",
   "metadata": {},
   "source": [
    "### Target Audience:"
   ]
  },
  {
   "cell_type": "markdown",
   "metadata": {},
   "source": [
    "To recommend the correct location, DNB Foodies Company Ltd has appointed me to lead of the Data Science team. The objective is to locate and recommend to the management which neighborhood of Newyork city will be best choice to start a restaurant. The Management also expects to understand the rationale of the recommendations made. This would interest anyone who wants to start a new restaurant in Newyork city."
   ]
  },
  {
   "cell_type": "markdown",
   "metadata": {},
   "source": [
    "### Success Criteria:"
   ]
  },
  {
   "cell_type": "markdown",
   "metadata": {},
   "source": [
    "The success criteria of the project will be a good recommendation of borough/Neighborhood choice for DNB Foodies Company Ltd based on lack of such restaurants in that location and nearest suppliers of ingredients."
   ]
  }
 ],
 "metadata": {
  "kernelspec": {
   "display_name": "Python 3.6",
   "language": "python",
   "name": "python3"
  },
  "language_info": {
   "codemirror_mode": {
    "name": "ipython",
    "version": 3
   },
   "file_extension": ".py",
   "mimetype": "text/x-python",
   "name": "python",
   "nbconvert_exporter": "python",
   "pygments_lexer": "ipython3",
   "version": "3.6.9"
  }
 },
 "nbformat": 4,
 "nbformat_minor": 1
}
